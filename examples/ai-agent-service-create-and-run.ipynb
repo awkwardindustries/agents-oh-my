{
 "cells": [
  {
   "cell_type": "markdown",
   "id": "720e8388",
   "metadata": {},
   "source": [
    "## Setup environment and Project Client"
   ]
  },
  {
   "cell_type": "code",
   "execution_count": null,
   "id": "27bdbf65",
   "metadata": {},
   "outputs": [],
   "source": [
    "# Install dependencies\n",
    "\n",
    "%pip install azure-identity\n",
    "%pip install azure-ai-projects\n",
    "%pip install python-dotenv"
   ]
  },
  {
   "cell_type": "code",
   "execution_count": null,
   "id": "6485ead7",
   "metadata": {},
   "outputs": [],
   "source": [
    "# Load environment \n",
    "\n",
    "from dotenv import load_dotenv\n",
    "\n",
    "load_dotenv(override=True)"
   ]
  },
  {
   "cell_type": "code",
   "execution_count": null,
   "id": "e19928f2",
   "metadata": {},
   "outputs": [],
   "source": [
    "# Create the project client\n",
    "\n",
    "import os\n",
    "from azure.ai.projects import AIProjectClient\n",
    "from azure.identity import DefaultAzureCredential\n",
    "\n",
    "credential = DefaultAzureCredential()\n",
    "project_client = AIProjectClient.from_connection_string(\n",
    "    credential=credential, conn_str=os.environ[\"AZURE_AI_PROJECT_CONNECTION_STRING\"]\n",
    ")"
   ]
  },
  {
   "cell_type": "markdown",
   "id": "69e3ba72",
   "metadata": {},
   "source": [
    "## Prep the File and Vector Store (agent-level vector store)"
   ]
  },
  {
   "cell_type": "code",
   "execution_count": null,
   "id": "10613b84",
   "metadata": {},
   "outputs": [],
   "source": [
    "from azure.ai.projects.models import FilePurpose\n",
    "\n",
    "# Upload file\n",
    "\n",
    "file = project_client.agents.upload_file_and_poll(\n",
    "    file_path=\"./files/food-holidays.txt\",\n",
    "    purpose=FilePurpose.AGENTS\n",
    ")\n",
    "print(f\"Uploaded file, file ID: {file.id}\")\n",
    "\n",
    "# Create a vector store and attach file\n",
    "\n",
    "vector_store = project_client.agents.create_vector_store_and_poll(\n",
    "    file_ids=[file.id],\n",
    "    name=\"holidays-vectorstore\"\n",
    ")\n",
    "print(f\"Created vector store, vector store ID: {vector_store.id}\")"
   ]
  },
  {
   "cell_type": "markdown",
   "id": "c4e4be4c",
   "metadata": {},
   "source": [
    "## Create the Agent, Thread, and add a User Message"
   ]
  },
  {
   "cell_type": "code",
   "execution_count": null,
   "id": "c94a2494",
   "metadata": {},
   "outputs": [],
   "source": [
    "from azure.ai.projects.models import FileSearchTool\n",
    "from datetime import date\n",
    "\n",
    "# Initialize the Agent's File Search Tool with access to the vector store\n",
    "\n",
    "file_search_tool = FileSearchTool(vector_store_ids=[vector_store.id])\n",
    "\n",
    "# Create the Agent\n",
    "\n",
    "agent = project_client.agents.create_agent(\n",
    "    model=\"gpt-4o-mini\",\n",
    "    name=\"holidays-recipe-agent\",\n",
    "    instructions=f\"You are a helpful assistant. You answer questions about upcoming events based on your calendar data. The current date is {date.today()}. Do not make up events.\",\n",
    "    tools=file_search_tool.definitions,\n",
    "    tool_resources=file_search_tool.resources\n",
    ")\n",
    "print(f\"Created agent, agent ID: {agent.id}\")"
   ]
  },
  {
   "cell_type": "code",
   "execution_count": null,
   "id": "8d98b327",
   "metadata": {},
   "outputs": [],
   "source": [
    "from azure.ai.projects.models import MessageTextContent\n",
    "\n",
    "# Create a thread\n",
    "\n",
    "thread = project_client.agents.create_thread()\n",
    "print(f\"Created thread, thread ID: {thread.id}\")\n",
    "\n",
    "# Add a user message to the thread\n",
    "\n",
    "message = project_client.agents.create_message(\n",
    "    thread_id=thread.id,\n",
    "    role=\"user\",\n",
    "    content=\"What food holidays are coming up over the next week?\"\n",
    ")"
   ]
  },
  {
   "cell_type": "markdown",
   "id": "17bf206c",
   "metadata": {},
   "source": [
    "## Run the Thread and View Results"
   ]
  },
  {
   "cell_type": "code",
   "execution_count": null,
   "id": "46a9afd5",
   "metadata": {},
   "outputs": [],
   "source": [
    "# Create a run and wait for it to finish\n",
    "\n",
    "run = project_client.agents.create_and_process_run(\n",
    "    thread_id=thread.id,\n",
    "    agent_id=agent.id\n",
    ")\n",
    "print(f\"Completed run, run ID: {run.id}\")"
   ]
  },
  {
   "cell_type": "code",
   "execution_count": null,
   "id": "2c9d21c8",
   "metadata": {},
   "outputs": [],
   "source": [
    "# Print run results and citations\n",
    "\n",
    "messages = project_client.agents.list_messages(thread_id=thread.id)\n",
    "for m in reversed(messages.data):\n",
    "    last_message_content = m.content[-1]\n",
    "    if isinstance(last_message_content, MessageTextContent):\n",
    "        print(f\"\\n{m.role.upper()}: {last_message_content.text.value}\")\n",
    "\n",
    "print(\"\\nCitations:\")\n",
    "for c in messages.file_citation_annotations:\n",
    "    print(f\"- Citation snippet: '{c.text}' from file ID: {c.file_citation['file_id']}\")"
   ]
  },
  {
   "cell_type": "markdown",
   "id": "948475a8",
   "metadata": {},
   "source": [
    "## Add File via Message Attachment (thread-level managed vector store)"
   ]
  },
  {
   "cell_type": "code",
   "execution_count": null,
   "id": "4bd54d89",
   "metadata": {},
   "outputs": [],
   "source": [
    "from azure.ai.projects.models import MessageAttachment\n",
    "\n",
    "# Upload a new file for use as a message attachment\n",
    "\n",
    "message_file = project_client.agents.upload_file_and_poll(\n",
    "    file_path=\"./files/birthdays.txt\",\n",
    "    purpose=FilePurpose.AGENTS\n",
    ")\n",
    "print(f\"Uploaded file, file ID: {message_file.id}\")\n",
    "\n",
    "# Add a user message to the tread with the file attachment\n",
    "\n",
    "attachment = MessageAttachment(\n",
    "    file_id=message_file.id,\n",
    "    tools=FileSearchTool().definitions\n",
    ")\n",
    "message_attachment = project_client.agents.create_message(\n",
    "    thread_id=thread.id,\n",
    "    role=\"user\",\n",
    "    content=\"I need to prepare something special for a teammate's birthday. What food holidays are on the next two team members' birthdays?\",\n",
    "    attachments=[attachment]\n",
    ")"
   ]
  },
  {
   "cell_type": "markdown",
   "id": "9ba7202a",
   "metadata": {},
   "source": [
    "## Run the Thread and View Results"
   ]
  },
  {
   "cell_type": "code",
   "execution_count": null,
   "id": "b594682c",
   "metadata": {},
   "outputs": [],
   "source": [
    "# Create a run and wait for it to finish\n",
    "\n",
    "run = project_client.agents.create_and_process_run(\n",
    "    thread_id=thread.id,\n",
    "    agent_id=agent.id\n",
    ")\n",
    "print(f\"Completed run, run ID: {run.id}\")"
   ]
  },
  {
   "cell_type": "code",
   "execution_count": null,
   "id": "f087e1e1",
   "metadata": {},
   "outputs": [],
   "source": [
    "# Print run results and citations\n",
    "\n",
    "messages = project_client.agents.list_messages(thread_id=thread.id)\n",
    "for m in reversed(messages.data):\n",
    "    last_message_content = m.content[-1]\n",
    "    if isinstance(last_message_content, MessageTextContent):\n",
    "        print(f\"\\n{m.role.upper()}: {last_message_content.text.value}\")\n",
    "\n",
    "print(\"\\nCitations:\")\n",
    "for c in messages.file_citation_annotations:\n",
    "    print(f\"- Citation snippet: '{c.text}' from file ID: {c.file_citation['file_id']}\")"
   ]
  },
  {
   "cell_type": "markdown",
   "id": "4cd256b8",
   "metadata": {},
   "source": [
    "## Cleanup"
   ]
  },
  {
   "cell_type": "code",
   "execution_count": null,
   "id": "0a036ef1",
   "metadata": {},
   "outputs": [],
   "source": [
    "# Explicit cleanup\n",
    "\n",
    "project_client.agents.delete_vector_store(vector_store_id=vector_store.id)\n",
    "project_client.agents.delete_file(file_id=file.id)\n",
    "project_client.agents.delete_file(file_id=message_file.id)\n",
    "project_client.agents.delete_thread(thread_id=thread.id)\n",
    "project_client.agents.delete_agent(agent_id=agent.id)\n",
    "\n",
    "# Clean up EVERYTHING...\n",
    "\n",
    "# # Cleanup any vector stores\n",
    "# vector_stores = project_client.agents.list_vector_stores()\n",
    "# for vs in vector_stores.data:\n",
    "#     print(f\"Deleting vector store: {vs.id}\")\n",
    "#     project_client.agents.delete_vector_store(vector_store_id=vs.id)\n",
    "# # Cleanup any files\n",
    "# files = project_client.agents.list_files(purpose=FilePurpose.AGENTS)\n",
    "# for f in files.data:\n",
    "#     print(f\"Deleting file: {f.id}\")\n",
    "#     project_client.agents.delete_file(file_id=f.id)\n",
    "# # Cleanup any agents\n",
    "# agents = project_client.agents.list_agents()\n",
    "# for a in agents.data:\n",
    "#     print(f\"Deleting agent: {a.id}\")\n",
    "#     project_client.agents.delete_agent(agent_id=a.id)"
   ]
  }
 ],
 "metadata": {
  "kernelspec": {
   "display_name": ".venv",
   "language": "python",
   "name": "python3"
  },
  "language_info": {
   "codemirror_mode": {
    "name": "ipython",
    "version": 3
   },
   "file_extension": ".py",
   "mimetype": "text/x-python",
   "name": "python",
   "nbconvert_exporter": "python",
   "pygments_lexer": "ipython3",
   "version": "3.12.3"
  }
 },
 "nbformat": 4,
 "nbformat_minor": 5
}
